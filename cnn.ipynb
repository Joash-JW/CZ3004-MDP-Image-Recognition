{
 "cells": [
  {
   "cell_type": "code",
   "execution_count": 1,
   "metadata": {},
   "outputs": [
    {
     "name": "stderr",
     "output_type": "stream",
     "text": [
      "Using TensorFlow backend.\n"
     ]
    }
   ],
   "source": [
    "from keras.models import Model\n",
    "from keras.layers import Input, Dense, Conv2D, BatchNormalization, Flatten, MaxPooling2D, Lambda, ReLU\n",
    "import pandas as pd\n",
    "import numpy as np\n",
    "import cv2, joblib\n",
    "from keras.optimizers import Adam\n",
    "from sklearn.preprocessing import LabelBinarizer\n",
    "import matplotlib.pyplot as plt\n",
    "from sklearn.metrics import accuracy_score\n",
    "from sklearn.model_selection import train_test_split"
   ]
  },
  {
   "cell_type": "markdown",
   "metadata": {},
   "source": [
    "## Gray Version"
   ]
  },
  {
   "cell_type": "code",
   "execution_count": 2,
   "metadata": {},
   "outputs": [
    {
     "name": "stdout",
     "output_type": "stream",
     "text": [
      "False\n"
     ]
    }
   ],
   "source": [
    "df = pd.read_csv(\"cnn_data_gray.csv\")\n",
    "df.labels = df.labels.astype('category')\n",
    "lb = joblib.load(\"labelbinarizer.joblib\")\n",
    "print(df.isnull().values.any())\n",
    "\n",
    "b_size = 64\n",
    "channels = 1\n",
    "dim = 64\n",
    "\n",
    "x_train, x_test, y_train, y_test = train_test_split(df.img_path, df.labels,\n",
    "                                                    stratify=df.labels, test_size=0.1, random_state=2020)\n",
    "y_train = lb.transform(y_train)\n",
    "y_test = lb.transform(y_test)"
   ]
  },
  {
   "cell_type": "code",
   "execution_count": 3,
   "metadata": {},
   "outputs": [
    {
     "name": "stdout",
     "output_type": "stream",
     "text": [
      "Images Loaded\n"
     ]
    }
   ],
   "source": [
    "x_train_img = np.empty(shape=(0,dim,dim,channels))\n",
    "for row in x_train:\n",
    "    frame = cv2.imread(row, 0)/255\n",
    "    arr = np.reshape(frame, newshape=(1,dim,dim,channels))\n",
    "    x_train_img = np.append(x_train_img, arr, axis=0)\n",
    "    \n",
    "x_test_img = np.empty(shape=(0,dim,dim,channels))\n",
    "for row in x_test:\n",
    "    frame = cv2.imread(row, 0)/255\n",
    "    arr = np.reshape(frame, newshape=(1,dim,dim,channels))\n",
    "    x_test_img = np.append(x_test_img, arr, axis=0)\n",
    "    \n",
    "print(\"Images Loaded\")"
   ]
  },
  {
   "cell_type": "code",
   "execution_count": 4,
   "metadata": {},
   "outputs": [],
   "source": [
    "input_layer = Input(shape=(dim,dim,channels))\n",
    "x = Conv2D(32, (3,3), padding=\"same\")(input_layer)\n",
    "x = BatchNormalization()(x)\n",
    "x = ReLU()(x)\n",
    "x = Conv2D(32, (3,3), padding=\"same\")(x)\n",
    "x = BatchNormalization()(x)\n",
    "x = ReLU()(x)\n",
    "x = MaxPooling2D()(x)\n",
    "\n",
    "x = Conv2D(64, (5,5), padding=\"same\")(x)\n",
    "x = BatchNormalization()(x)\n",
    "x = ReLU()(x)\n",
    "x = Conv2D(64, (5,5), padding=\"same\")(x)\n",
    "x = BatchNormalization()(x)\n",
    "x = ReLU()(x)\n",
    "x = MaxPooling2D()(x)\n",
    "\n",
    "x = Conv2D(128, (5,5), padding=\"same\")(x)\n",
    "x = BatchNormalization()(x)\n",
    "x = ReLU()(x)\n",
    "x = Conv2D(128, (5,5), padding=\"same\")(x)\n",
    "x = BatchNormalization()(x)\n",
    "x = ReLU()(x)\n",
    "x = MaxPooling2D()(x)\n",
    "\n",
    "x = Conv2D(256, (5,5), padding=\"same\")(x)\n",
    "x = BatchNormalization()(x)\n",
    "x = ReLU()(x)\n",
    "x = Conv2D(256, (5,5), padding=\"same\")(x)\n",
    "x = BatchNormalization()(x)\n",
    "x = ReLU()(x)\n",
    "x = MaxPooling2D()(x)\n",
    "\n",
    "x = Flatten()(x)\n",
    "x = Dense(512, activation='relu')(x)\n",
    "output = Dense(15, activation='softmax')(x)\n",
    "    \n",
    "# Connect the inputs with the outputs\n",
    "cnn = Model(inputs=input_layer, outputs=output)"
   ]
  },
  {
   "cell_type": "code",
   "execution_count": 5,
   "metadata": {
    "scrolled": true
   },
   "outputs": [
    {
     "name": "stdout",
     "output_type": "stream",
     "text": [
      "Model: \"model_1\"\n",
      "_________________________________________________________________\n",
      "Layer (type)                 Output Shape              Param #   \n",
      "=================================================================\n",
      "input_1 (InputLayer)         (None, 64, 64, 1)         0         \n",
      "_________________________________________________________________\n",
      "conv2d_1 (Conv2D)            (None, 64, 64, 32)        320       \n",
      "_________________________________________________________________\n",
      "batch_normalization_1 (Batch (None, 64, 64, 32)        128       \n",
      "_________________________________________________________________\n",
      "re_lu_1 (ReLU)               (None, 64, 64, 32)        0         \n",
      "_________________________________________________________________\n",
      "conv2d_2 (Conv2D)            (None, 64, 64, 32)        9248      \n",
      "_________________________________________________________________\n",
      "batch_normalization_2 (Batch (None, 64, 64, 32)        128       \n",
      "_________________________________________________________________\n",
      "re_lu_2 (ReLU)               (None, 64, 64, 32)        0         \n",
      "_________________________________________________________________\n",
      "max_pooling2d_1 (MaxPooling2 (None, 32, 32, 32)        0         \n",
      "_________________________________________________________________\n",
      "conv2d_3 (Conv2D)            (None, 32, 32, 64)        51264     \n",
      "_________________________________________________________________\n",
      "batch_normalization_3 (Batch (None, 32, 32, 64)        256       \n",
      "_________________________________________________________________\n",
      "re_lu_3 (ReLU)               (None, 32, 32, 64)        0         \n",
      "_________________________________________________________________\n",
      "conv2d_4 (Conv2D)            (None, 32, 32, 64)        102464    \n",
      "_________________________________________________________________\n",
      "batch_normalization_4 (Batch (None, 32, 32, 64)        256       \n",
      "_________________________________________________________________\n",
      "re_lu_4 (ReLU)               (None, 32, 32, 64)        0         \n",
      "_________________________________________________________________\n",
      "max_pooling2d_2 (MaxPooling2 (None, 16, 16, 64)        0         \n",
      "_________________________________________________________________\n",
      "conv2d_5 (Conv2D)            (None, 16, 16, 128)       204928    \n",
      "_________________________________________________________________\n",
      "batch_normalization_5 (Batch (None, 16, 16, 128)       512       \n",
      "_________________________________________________________________\n",
      "re_lu_5 (ReLU)               (None, 16, 16, 128)       0         \n",
      "_________________________________________________________________\n",
      "conv2d_6 (Conv2D)            (None, 16, 16, 128)       409728    \n",
      "_________________________________________________________________\n",
      "batch_normalization_6 (Batch (None, 16, 16, 128)       512       \n",
      "_________________________________________________________________\n",
      "re_lu_6 (ReLU)               (None, 16, 16, 128)       0         \n",
      "_________________________________________________________________\n",
      "max_pooling2d_3 (MaxPooling2 (None, 8, 8, 128)         0         \n",
      "_________________________________________________________________\n",
      "conv2d_7 (Conv2D)            (None, 8, 8, 256)         819456    \n",
      "_________________________________________________________________\n",
      "batch_normalization_7 (Batch (None, 8, 8, 256)         1024      \n",
      "_________________________________________________________________\n",
      "re_lu_7 (ReLU)               (None, 8, 8, 256)         0         \n",
      "_________________________________________________________________\n",
      "conv2d_8 (Conv2D)            (None, 8, 8, 256)         1638656   \n",
      "_________________________________________________________________\n",
      "batch_normalization_8 (Batch (None, 8, 8, 256)         1024      \n",
      "_________________________________________________________________\n",
      "re_lu_8 (ReLU)               (None, 8, 8, 256)         0         \n",
      "_________________________________________________________________\n",
      "max_pooling2d_4 (MaxPooling2 (None, 4, 4, 256)         0         \n",
      "_________________________________________________________________\n",
      "flatten_1 (Flatten)          (None, 4096)              0         \n",
      "_________________________________________________________________\n",
      "dense_1 (Dense)              (None, 512)               2097664   \n",
      "_________________________________________________________________\n",
      "dense_2 (Dense)              (None, 15)                7695      \n",
      "=================================================================\n",
      "Total params: 5,345,263\n",
      "Trainable params: 5,343,343\n",
      "Non-trainable params: 1,920\n",
      "_________________________________________________________________\n"
     ]
    }
   ],
   "source": [
    "cnn.compile(loss=\"categorical_crossentropy\",optimizer=Adam(lr=0.00006, decay=1e-6), metrics=['acc'])\n",
    "cnn.summary()"
   ]
  },
  {
   "cell_type": "code",
   "execution_count": 6,
   "metadata": {
    "scrolled": true
   },
   "outputs": [
    {
     "name": "stdout",
     "output_type": "stream",
     "text": [
      "Train on 1310 samples, validate on 146 samples\n",
      "Epoch 1/100\n",
      "1310/1310 [==============================] - 7s 6ms/step - loss: 1.0241 - acc: 0.7198 - val_loss: 2.7176 - val_acc: 0.0890\n",
      "Epoch 2/100\n",
      "1310/1310 [==============================] - 2s 1ms/step - loss: 0.1489 - acc: 0.9565 - val_loss: 2.7567 - val_acc: 0.0411\n",
      "Epoch 3/100\n",
      "1310/1310 [==============================] - 2s 1ms/step - loss: 0.0514 - acc: 0.9878 - val_loss: 2.8019 - val_acc: 0.0479\n",
      "Epoch 4/100\n",
      "1310/1310 [==============================] - 2s 1ms/step - loss: 0.0186 - acc: 0.9992 - val_loss: 2.8474 - val_acc: 0.0479\n",
      "Epoch 5/100\n",
      "1310/1310 [==============================] - 2s 1ms/step - loss: 0.0086 - acc: 0.9985 - val_loss: 2.9349 - val_acc: 0.0479\n",
      "Epoch 6/100\n",
      "1310/1310 [==============================] - 2s 1ms/step - loss: 0.0042 - acc: 1.0000 - val_loss: 3.0381 - val_acc: 0.0479\n",
      "Epoch 7/100\n",
      "1310/1310 [==============================] - 2s 1ms/step - loss: 0.0038 - acc: 1.0000 - val_loss: 3.1622 - val_acc: 0.0959\n",
      "Epoch 8/100\n",
      "1310/1310 [==============================] - 2s 1ms/step - loss: 0.0029 - acc: 1.0000 - val_loss: 3.2455 - val_acc: 0.1027\n",
      "Epoch 9/100\n",
      "1310/1310 [==============================] - 2s 1ms/step - loss: 0.0022 - acc: 1.0000 - val_loss: 3.4483 - val_acc: 0.0959\n",
      "Epoch 10/100\n",
      "1310/1310 [==============================] - 2s 1ms/step - loss: 0.0019 - acc: 1.0000 - val_loss: 3.5161 - val_acc: 0.1164\n",
      "Epoch 11/100\n",
      "1310/1310 [==============================] - 2s 1ms/step - loss: 0.0013 - acc: 1.0000 - val_loss: 3.5240 - val_acc: 0.1164\n",
      "Epoch 12/100\n",
      "1310/1310 [==============================] - 2s 1ms/step - loss: 0.0014 - acc: 1.0000 - val_loss: 3.6274 - val_acc: 0.1164\n",
      "Epoch 13/100\n",
      "1310/1310 [==============================] - 2s 1ms/step - loss: 0.0012 - acc: 1.0000 - val_loss: 3.6262 - val_acc: 0.1164\n",
      "Epoch 14/100\n",
      "1310/1310 [==============================] - 2s 1ms/step - loss: 0.0010 - acc: 1.0000 - val_loss: 3.5016 - val_acc: 0.1233\n",
      "Epoch 15/100\n",
      "1310/1310 [==============================] - 2s 1ms/step - loss: 9.9379e-04 - acc: 1.0000 - val_loss: 3.3115 - val_acc: 0.1233\n",
      "Epoch 16/100\n",
      "1310/1310 [==============================] - 2s 1ms/step - loss: 8.8686e-04 - acc: 1.0000 - val_loss: 3.1905 - val_acc: 0.1438\n",
      "Epoch 17/100\n",
      "1310/1310 [==============================] - 2s 1ms/step - loss: 7.5412e-04 - acc: 1.0000 - val_loss: 2.8155 - val_acc: 0.1712\n",
      "Epoch 18/100\n",
      "1310/1310 [==============================] - 2s 1ms/step - loss: 6.1332e-04 - acc: 1.0000 - val_loss: 2.4293 - val_acc: 0.2260\n",
      "Epoch 19/100\n",
      "1310/1310 [==============================] - 2s 1ms/step - loss: 5.6016e-04 - acc: 1.0000 - val_loss: 2.0651 - val_acc: 0.2877\n",
      "Epoch 20/100\n",
      "1310/1310 [==============================] - 2s 1ms/step - loss: 5.0973e-04 - acc: 1.0000 - val_loss: 1.6998 - val_acc: 0.4178\n",
      "Epoch 21/100\n",
      "1310/1310 [==============================] - 2s 1ms/step - loss: 4.7083e-04 - acc: 1.0000 - val_loss: 1.3582 - val_acc: 0.5411\n",
      "Epoch 22/100\n",
      "1310/1310 [==============================] - 2s 1ms/step - loss: 0.0012 - acc: 1.0000 - val_loss: 1.1280 - val_acc: 0.6438\n",
      "Epoch 23/100\n",
      "1310/1310 [==============================] - 2s 1ms/step - loss: 7.7205e-04 - acc: 1.0000 - val_loss: 0.8856 - val_acc: 0.7123\n",
      "Epoch 24/100\n",
      "1310/1310 [==============================] - 2s 1ms/step - loss: 4.6801e-04 - acc: 1.0000 - val_loss: 0.6485 - val_acc: 0.7740\n",
      "Epoch 25/100\n",
      "1310/1310 [==============================] - 2s 1ms/step - loss: 3.8399e-04 - acc: 1.0000 - val_loss: 0.5045 - val_acc: 0.8425\n",
      "Epoch 26/100\n",
      "1310/1310 [==============================] - 2s 1ms/step - loss: 7.2725e-04 - acc: 1.0000 - val_loss: 0.3902 - val_acc: 0.8562\n",
      "Epoch 27/100\n",
      "1310/1310 [==============================] - 2s 1ms/step - loss: 4.5473e-04 - acc: 1.0000 - val_loss: 0.3152 - val_acc: 0.9041\n",
      "Epoch 28/100\n",
      "1310/1310 [==============================] - 2s 1ms/step - loss: 3.3526e-04 - acc: 1.0000 - val_loss: 0.2736 - val_acc: 0.9247\n",
      "Epoch 29/100\n",
      "1310/1310 [==============================] - 2s 1ms/step - loss: 3.0719e-04 - acc: 1.0000 - val_loss: 0.2372 - val_acc: 0.9178\n",
      "Epoch 30/100\n",
      "1310/1310 [==============================] - 2s 1ms/step - loss: 3.0400e-04 - acc: 1.0000 - val_loss: 0.2112 - val_acc: 0.9247\n",
      "Epoch 31/100\n",
      "1310/1310 [==============================] - 2s 1ms/step - loss: 2.7020e-04 - acc: 1.0000 - val_loss: 0.1934 - val_acc: 0.9384\n",
      "Epoch 32/100\n",
      "1310/1310 [==============================] - 2s 1ms/step - loss: 2.4224e-04 - acc: 1.0000 - val_loss: 0.1813 - val_acc: 0.9452\n",
      "Epoch 33/100\n",
      "1310/1310 [==============================] - 2s 1ms/step - loss: 3.0521e-04 - acc: 1.0000 - val_loss: 0.1736 - val_acc: 0.9452\n",
      "Epoch 34/100\n",
      "1310/1310 [==============================] - 2s 1ms/step - loss: 2.0188e-04 - acc: 1.0000 - val_loss: 0.1659 - val_acc: 0.9452\n",
      "Epoch 35/100\n",
      "1310/1310 [==============================] - 2s 1ms/step - loss: 1.9066e-04 - acc: 1.0000 - val_loss: 0.1613 - val_acc: 0.9452\n",
      "Epoch 36/100\n",
      "1310/1310 [==============================] - 2s 1ms/step - loss: 1.8459e-04 - acc: 1.0000 - val_loss: 0.1570 - val_acc: 0.9521\n",
      "Epoch 37/100\n",
      "1310/1310 [==============================] - 2s 1ms/step - loss: 4.3974e-04 - acc: 1.0000 - val_loss: 0.1667 - val_acc: 0.9452\n",
      "Epoch 38/100\n",
      "1310/1310 [==============================] - 2s 1ms/step - loss: 2.5793e-04 - acc: 1.0000 - val_loss: 0.1678 - val_acc: 0.9452\n",
      "Epoch 39/100\n",
      "1310/1310 [==============================] - 2s 1ms/step - loss: 1.9698e-04 - acc: 1.0000 - val_loss: 0.1596 - val_acc: 0.9452\n",
      "Epoch 40/100\n",
      "1310/1310 [==============================] - 2s 1ms/step - loss: 1.7449e-04 - acc: 1.0000 - val_loss: 0.1552 - val_acc: 0.9452\n",
      "Epoch 41/100\n",
      "1310/1310 [==============================] - 2s 1ms/step - loss: 1.7194e-04 - acc: 1.0000 - val_loss: 0.1520 - val_acc: 0.9521\n",
      "Epoch 42/100\n",
      "1310/1310 [==============================] - 2s 1ms/step - loss: 1.4269e-04 - acc: 1.0000 - val_loss: 0.1494 - val_acc: 0.9521\n",
      "Epoch 43/100\n",
      "1310/1310 [==============================] - 2s 1ms/step - loss: 1.5208e-04 - acc: 1.0000 - val_loss: 0.1471 - val_acc: 0.9589\n",
      "Epoch 44/100\n",
      "1310/1310 [==============================] - 2s 1ms/step - loss: 1.9879e-04 - acc: 1.0000 - val_loss: 0.1436 - val_acc: 0.9521\n",
      "Epoch 45/100\n",
      "1310/1310 [==============================] - 2s 1ms/step - loss: 1.2497e-04 - acc: 1.0000 - val_loss: 0.1427 - val_acc: 0.9589\n",
      "Epoch 46/100\n",
      "1310/1310 [==============================] - 2s 1ms/step - loss: 1.3155e-04 - acc: 1.0000 - val_loss: 0.1436 - val_acc: 0.9589\n",
      "Epoch 47/100\n",
      "1310/1310 [==============================] - 2s 1ms/step - loss: 1.0898e-04 - acc: 1.0000 - val_loss: 0.1440 - val_acc: 0.9589\n",
      "Epoch 48/100\n",
      "1310/1310 [==============================] - 2s 1ms/step - loss: 1.1239e-04 - acc: 1.0000 - val_loss: 0.1421 - val_acc: 0.9589\n",
      "Epoch 49/100\n",
      "1310/1310 [==============================] - 2s 1ms/step - loss: 1.0976e-04 - acc: 1.0000 - val_loss: 0.1415 - val_acc: 0.9589\n",
      "Epoch 50/100\n",
      "1310/1310 [==============================] - 2s 1ms/step - loss: 1.0910e-04 - acc: 1.0000 - val_loss: 0.1422 - val_acc: 0.9589\n",
      "Epoch 51/100\n",
      "1310/1310 [==============================] - 2s 1ms/step - loss: 1.1426e-04 - acc: 1.0000 - val_loss: 0.1421 - val_acc: 0.9589\n",
      "Epoch 52/100\n",
      "1310/1310 [==============================] - 2s 1ms/step - loss: 1.4300e-04 - acc: 1.0000 - val_loss: 0.1428 - val_acc: 0.9589\n",
      "Epoch 53/100\n",
      "1310/1310 [==============================] - 2s 1ms/step - loss: 8.2176e-05 - acc: 1.0000 - val_loss: 0.1445 - val_acc: 0.9521\n",
      "Epoch 54/100\n",
      "1310/1310 [==============================] - 2s 1ms/step - loss: 1.0793e-04 - acc: 1.0000 - val_loss: 0.1438 - val_acc: 0.9589\n",
      "Epoch 55/100\n",
      "1310/1310 [==============================] - 2s 1ms/step - loss: 8.8259e-05 - acc: 1.0000 - val_loss: 0.1443 - val_acc: 0.9589\n",
      "Epoch 56/100\n",
      "1310/1310 [==============================] - 2s 1ms/step - loss: 8.7756e-05 - acc: 1.0000 - val_loss: 0.1433 - val_acc: 0.9589\n",
      "Epoch 57/100\n",
      "1310/1310 [==============================] - 2s 1ms/step - loss: 8.8248e-05 - acc: 1.0000 - val_loss: 0.1420 - val_acc: 0.9589\n",
      "Epoch 58/100\n",
      "1310/1310 [==============================] - 2s 1ms/step - loss: 9.9005e-05 - acc: 1.0000 - val_loss: 0.1422 - val_acc: 0.9589\n",
      "Epoch 59/100\n",
      "1310/1310 [==============================] - 2s 1ms/step - loss: 8.0803e-05 - acc: 1.0000 - val_loss: 0.1426 - val_acc: 0.9589\n",
      "Epoch 60/100\n",
      "1310/1310 [==============================] - 2s 1ms/step - loss: 1.0545e-04 - acc: 1.0000 - val_loss: 0.1435 - val_acc: 0.9589\n",
      "Epoch 61/100\n",
      "1310/1310 [==============================] - 2s 1ms/step - loss: 7.7843e-05 - acc: 1.0000 - val_loss: 0.1431 - val_acc: 0.9589\n",
      "Epoch 62/100\n",
      "1310/1310 [==============================] - 2s 1ms/step - loss: 8.9791e-05 - acc: 1.0000 - val_loss: 0.1430 - val_acc: 0.9589\n",
      "Epoch 63/100\n",
      "1310/1310 [==============================] - 2s 1ms/step - loss: 6.7813e-05 - acc: 1.0000 - val_loss: 0.1427 - val_acc: 0.9589\n",
      "Epoch 64/100\n",
      "1310/1310 [==============================] - 2s 1ms/step - loss: 6.9881e-05 - acc: 1.0000 - val_loss: 0.1433 - val_acc: 0.9589\n",
      "Epoch 65/100\n",
      "1310/1310 [==============================] - 2s 1ms/step - loss: 6.2584e-05 - acc: 1.0000 - val_loss: 0.1445 - val_acc: 0.9589\n",
      "Epoch 66/100\n",
      "1310/1310 [==============================] - 2s 1ms/step - loss: 6.8322e-05 - acc: 1.0000 - val_loss: 0.1425 - val_acc: 0.9589\n",
      "Epoch 67/100\n",
      "1310/1310 [==============================] - 2s 1ms/step - loss: 5.9964e-05 - acc: 1.0000 - val_loss: 0.1454 - val_acc: 0.9589\n",
      "Epoch 68/100\n",
      "1310/1310 [==============================] - 2s 1ms/step - loss: 6.2622e-05 - acc: 1.0000 - val_loss: 0.1447 - val_acc: 0.9589\n",
      "Epoch 69/100\n",
      "1310/1310 [==============================] - 2s 1ms/step - loss: 5.3864e-05 - acc: 1.0000 - val_loss: 0.1458 - val_acc: 0.9589\n",
      "Epoch 70/100\n",
      "1310/1310 [==============================] - 2s 1ms/step - loss: 6.7227e-05 - acc: 1.0000 - val_loss: 0.1441 - val_acc: 0.9589\n",
      "Epoch 71/100\n",
      "1310/1310 [==============================] - 2s 1ms/step - loss: 5.8076e-05 - acc: 1.0000 - val_loss: 0.1436 - val_acc: 0.9589\n",
      "Epoch 72/100\n",
      "1310/1310 [==============================] - 2s 1ms/step - loss: 5.0144e-05 - acc: 1.0000 - val_loss: 0.1427 - val_acc: 0.9589\n",
      "Epoch 73/100\n",
      "1310/1310 [==============================] - 2s 1ms/step - loss: 4.7937e-05 - acc: 1.0000 - val_loss: 0.1427 - val_acc: 0.9589\n",
      "Epoch 74/100\n",
      "1310/1310 [==============================] - 2s 1ms/step - loss: 1.0020e-04 - acc: 1.0000 - val_loss: 0.1476 - val_acc: 0.9521\n",
      "Epoch 75/100\n",
      "1310/1310 [==============================] - 2s 1ms/step - loss: 5.8371e-05 - acc: 1.0000 - val_loss: 0.1503 - val_acc: 0.9521\n",
      "Epoch 76/100\n",
      "1310/1310 [==============================] - 2s 1ms/step - loss: 5.2262e-05 - acc: 1.0000 - val_loss: 0.1506 - val_acc: 0.9521\n",
      "Epoch 77/100\n",
      "1310/1310 [==============================] - 2s 1ms/step - loss: 6.7582e-05 - acc: 1.0000 - val_loss: 0.1473 - val_acc: 0.9521\n",
      "Epoch 78/100\n",
      "1310/1310 [==============================] - 2s 1ms/step - loss: 4.2739e-05 - acc: 1.0000 - val_loss: 0.1478 - val_acc: 0.9521\n",
      "Epoch 79/100\n",
      "1310/1310 [==============================] - 2s 1ms/step - loss: 5.2452e-05 - acc: 1.0000 - val_loss: 0.1475 - val_acc: 0.9589\n",
      "Epoch 80/100\n",
      "1310/1310 [==============================] - 2s 1ms/step - loss: 3.9340e-05 - acc: 1.0000 - val_loss: 0.1471 - val_acc: 0.9589\n",
      "Epoch 81/100\n",
      "1310/1310 [==============================] - 2s 1ms/step - loss: 3.8894e-05 - acc: 1.0000 - val_loss: 0.1476 - val_acc: 0.9589\n",
      "Epoch 82/100\n",
      "1310/1310 [==============================] - 2s 1ms/step - loss: 7.6938e-05 - acc: 1.0000 - val_loss: 0.1480 - val_acc: 0.9589\n",
      "Epoch 83/100\n",
      "1310/1310 [==============================] - 2s 1ms/step - loss: 4.6356e-05 - acc: 1.0000 - val_loss: 0.1560 - val_acc: 0.9521\n",
      "Epoch 84/100\n",
      "1310/1310 [==============================] - 2s 1ms/step - loss: 5.5088e-05 - acc: 1.0000 - val_loss: 0.1535 - val_acc: 0.9521\n",
      "Epoch 85/100\n",
      "1310/1310 [==============================] - 2s 1ms/step - loss: 4.4201e-05 - acc: 1.0000 - val_loss: 0.1513 - val_acc: 0.9589\n",
      "Epoch 86/100\n",
      "1310/1310 [==============================] - 2s 1ms/step - loss: 5.1730e-05 - acc: 1.0000 - val_loss: 0.1484 - val_acc: 0.9589\n",
      "Epoch 87/100\n",
      "1310/1310 [==============================] - 2s 1ms/step - loss: 3.9126e-05 - acc: 1.0000 - val_loss: 0.1466 - val_acc: 0.9589\n",
      "Epoch 88/100\n",
      "1310/1310 [==============================] - 2s 1ms/step - loss: 4.6525e-05 - acc: 1.0000 - val_loss: 0.1463 - val_acc: 0.9589\n",
      "Epoch 89/100\n",
      "1310/1310 [==============================] - 2s 1ms/step - loss: 3.9666e-05 - acc: 1.0000 - val_loss: 0.1461 - val_acc: 0.9589\n",
      "Epoch 90/100\n",
      "1310/1310 [==============================] - 2s 1ms/step - loss: 5.5634e-05 - acc: 1.0000 - val_loss: 0.1485 - val_acc: 0.9521\n",
      "Epoch 91/100\n",
      "1310/1310 [==============================] - 2s 1ms/step - loss: 4.3833e-05 - acc: 1.0000 - val_loss: 0.1496 - val_acc: 0.9521\n",
      "Epoch 92/100\n",
      "1310/1310 [==============================] - 2s 1ms/step - loss: 4.0748e-05 - acc: 1.0000 - val_loss: 0.1497 - val_acc: 0.9589\n",
      "Epoch 93/100\n",
      "1310/1310 [==============================] - 2s 1ms/step - loss: 3.9244e-05 - acc: 1.0000 - val_loss: 0.1510 - val_acc: 0.9521\n",
      "Epoch 94/100\n",
      "1310/1310 [==============================] - 2s 1ms/step - loss: 3.1832e-05 - acc: 1.0000 - val_loss: 0.1496 - val_acc: 0.9521\n",
      "Epoch 95/100\n",
      "1310/1310 [==============================] - 2s 1ms/step - loss: 5.8265e-05 - acc: 1.0000 - val_loss: 0.1465 - val_acc: 0.9589\n",
      "Epoch 96/100\n",
      "1310/1310 [==============================] - 2s 1ms/step - loss: 3.8414e-05 - acc: 1.0000 - val_loss: 0.1479 - val_acc: 0.9589\n",
      "Epoch 97/100\n",
      "1310/1310 [==============================] - 2s 1ms/step - loss: 3.6767e-05 - acc: 1.0000 - val_loss: 0.1476 - val_acc: 0.9589\n",
      "Epoch 98/100\n",
      "1310/1310 [==============================] - 2s 1ms/step - loss: 3.6272e-05 - acc: 1.0000 - val_loss: 0.1482 - val_acc: 0.9589\n",
      "Epoch 99/100\n",
      "1310/1310 [==============================] - 2s 1ms/step - loss: 3.8256e-05 - acc: 1.0000 - val_loss: 0.1522 - val_acc: 0.9452\n",
      "Epoch 100/100\n",
      "1310/1310 [==============================] - 2s 1ms/step - loss: 2.5946e-05 - acc: 1.0000 - val_loss: 0.1499 - val_acc: 0.9589\n"
     ]
    }
   ],
   "source": [
    "history = cnn.fit(x_train_img, y_train, batch_size=b_size, epochs=100, verbose=1,\n",
    "                          validation_data=(x_test_img,y_test))"
   ]
  },
  {
   "cell_type": "code",
   "execution_count": 8,
   "metadata": {
    "scrolled": true
   },
   "outputs": [
    {
     "data": {
      "image/png": "[encoded data removed]",
      "text/plain": [
       "<Figure size 432x288 with 1 Axes>"
      ]
     },
     "metadata": {
      "needs_background": "light"
     },
     "output_type": "display_data"
    },
    {
     "data": {
      "image/png": "[encoded data removed]",
      "text/plain": [
       "<Figure size 432x288 with 1 Axes>"
      ]
     },
     "metadata": {
      "needs_background": "light"
     },
     "output_type": "display_data"
    }
   ],
   "source": [
    "# Plot training & validation accuracy values\n",
    "plt.plot(history.history['acc'])\n",
    "plt.plot(history.history['val_acc'])\n",
    "plt.title('Model accuracy')\n",
    "plt.ylabel('Accuracy')\n",
    "plt.xlabel('Epoch')\n",
    "plt.legend(['Train', 'Test'], loc='upper left')\n",
    "plt.show()\n",
    "\n",
    "# Plot training & validation loss values\n",
    "plt.plot(history.history['loss'])\n",
    "plt.plot(history.history['val_loss'])\n",
    "plt.title('Model loss')\n",
    "plt.ylabel('Loss')\n",
    "plt.xlabel('Epoch')\n",
    "plt.legend(['Train', 'Test'], loc='upper left')\n",
    "plt.show()"
   ]
  },
  {
   "cell_type": "code",
   "execution_count": 9,
   "metadata": {},
   "outputs": [
    {
     "data": {
      "text/plain": [
       "array(['a', 'b', 'c', 'circle', 'd', 'down', 'e', 'five', 'four', 'left',\n",
       "       'one', 'right', 'three', 'two', 'up'], dtype='<U6')"
      ]
     },
     "execution_count": 9,
     "metadata": {},
     "output_type": "execute_result"
    }
   ],
   "source": [
    "lb.classes_"
   ]
  },
  {
   "cell_type": "code",
   "execution_count": 10,
   "metadata": {},
   "outputs": [],
   "source": [
    "preds = cnn.predict(x_test_img)\n",
    "class_index = preds.argmax(axis=-1)\n",
    "preds_labels = []\n",
    "for index in class_index:\n",
    "    preds_labels.append(lb.classes_[index])"
   ]
  },
  {
   "cell_type": "code",
   "execution_count": 11,
   "metadata": {},
   "outputs": [
    {
     "data": {
      "text/plain": [
       "0.958904109589041"
      ]
     },
     "execution_count": 11,
     "metadata": {},
     "output_type": "execute_result"
    }
   ],
   "source": [
    "accuracy_score(lb.inverse_transform(y_test), preds_labels)"
   ]
  },
  {
   "cell_type": "code",
   "execution_count": 13,
   "metadata": {},
   "outputs": [],
   "source": [
    "cnn.save_weights('cnn_weights_gray.h5')"
   ]
  },
  {
   "cell_type": "raw",
   "metadata": {},
   "source": [
    "import joblib\n",
    "joblib.dump(lb, \"labelbinarizer.joblib\")"
   ]
  },
  {
   "cell_type": "markdown",
   "metadata": {},
   "source": [
    "## BGR Version"
   ]
  },
  {
   "cell_type": "code",
   "execution_count": 2,
   "metadata": {},
   "outputs": [
    {
     "name": "stdout",
     "output_type": "stream",
     "text": [
      "False\n"
     ]
    }
   ],
   "source": [
    "df = pd.read_csv(\"cnn_data_colour.csv\")\n",
    "df.labels = df.labels.astype('category')\n",
    "lb = joblib.load(\"labelbinarizer.joblib\")\n",
    "print(df.isnull().values.any())\n",
    "\n",
    "b_size = 64\n",
    "channels = 3\n",
    "dim = 64\n",
    "\n",
    "x_train, x_test, y_train, y_test = train_test_split(df.img_path, df.labels,\n",
    "                                                    stratify=df.labels, test_size=0.1, random_state=2020)\n",
    "y_train = lb.transform(y_train)\n",
    "y_test = lb.transform(y_test)"
   ]
  },
  {
   "cell_type": "code",
   "execution_count": 3,
   "metadata": {},
   "outputs": [
    {
     "name": "stdout",
     "output_type": "stream",
     "text": [
      "Images Loaded\n"
     ]
    }
   ],
   "source": [
    "x_train_img = np.empty(shape=(0,dim,dim,channels))\n",
    "for row in x_train:\n",
    "    frame = cv2.imread(row)/255\n",
    "    arr = np.reshape(frame, newshape=(1,dim,dim,channels))\n",
    "    x_train_img = np.append(x_train_img, arr, axis=0)\n",
    "    \n",
    "x_test_img = np.empty(shape=(0,dim,dim,channels))\n",
    "for row in x_test:\n",
    "    frame = cv2.imread(row)/255\n",
    "    arr = np.reshape(frame, newshape=(1,dim,dim,channels))\n",
    "    x_test_img = np.append(x_test_img, arr, axis=0)\n",
    "    \n",
    "print(\"Images Loaded\")"
   ]
  },
  {
   "cell_type": "code",
   "execution_count": 4,
   "metadata": {
    "scrolled": true
   },
   "outputs": [
    {
     "name": "stdout",
     "output_type": "stream",
     "text": [
      "Model: \"model_1\"\n",
      "_________________________________________________________________\n",
      "Layer (type)                 Output Shape              Param #   \n",
      "=================================================================\n",
      "input_1 (InputLayer)         (None, 64, 64, 3)         0         \n",
      "_________________________________________________________________\n",
      "conv2d_1 (Conv2D)            (None, 64, 64, 32)        896       \n",
      "_________________________________________________________________\n",
      "batch_normalization_1 (Batch (None, 64, 64, 32)        128       \n",
      "_________________________________________________________________\n",
      "re_lu_1 (ReLU)               (None, 64, 64, 32)        0         \n",
      "_________________________________________________________________\n",
      "conv2d_2 (Conv2D)            (None, 64, 64, 32)        9248      \n",
      "_________________________________________________________________\n",
      "batch_normalization_2 (Batch (None, 64, 64, 32)        128       \n",
      "_________________________________________________________________\n",
      "re_lu_2 (ReLU)               (None, 64, 64, 32)        0         \n",
      "_________________________________________________________________\n",
      "max_pooling2d_1 (MaxPooling2 (None, 32, 32, 32)        0         \n",
      "_________________________________________________________________\n",
      "conv2d_3 (Conv2D)            (None, 32, 32, 64)        51264     \n",
      "_________________________________________________________________\n",
      "batch_normalization_3 (Batch (None, 32, 32, 64)        256       \n",
      "_________________________________________________________________\n",
      "re_lu_3 (ReLU)               (None, 32, 32, 64)        0         \n",
      "_________________________________________________________________\n",
      "conv2d_4 (Conv2D)            (None, 32, 32, 64)        102464    \n",
      "_________________________________________________________________\n",
      "batch_normalization_4 (Batch (None, 32, 32, 64)        256       \n",
      "_________________________________________________________________\n",
      "re_lu_4 (ReLU)               (None, 32, 32, 64)        0         \n",
      "_________________________________________________________________\n",
      "max_pooling2d_2 (MaxPooling2 (None, 16, 16, 64)        0         \n",
      "_________________________________________________________________\n",
      "conv2d_5 (Conv2D)            (None, 16, 16, 128)       204928    \n",
      "_________________________________________________________________\n",
      "batch_normalization_5 (Batch (None, 16, 16, 128)       512       \n",
      "_________________________________________________________________\n",
      "re_lu_5 (ReLU)               (None, 16, 16, 128)       0         \n",
      "_________________________________________________________________\n",
      "conv2d_6 (Conv2D)            (None, 16, 16, 128)       409728    \n",
      "_________________________________________________________________\n",
      "batch_normalization_6 (Batch (None, 16, 16, 128)       512       \n",
      "_________________________________________________________________\n",
      "re_lu_6 (ReLU)               (None, 16, 16, 128)       0         \n",
      "_________________________________________________________________\n",
      "max_pooling2d_3 (MaxPooling2 (None, 8, 8, 128)         0         \n",
      "_________________________________________________________________\n",
      "conv2d_7 (Conv2D)            (None, 8, 8, 256)         819456    \n",
      "_________________________________________________________________\n",
      "batch_normalization_7 (Batch (None, 8, 8, 256)         1024      \n",
      "_________________________________________________________________\n",
      "re_lu_7 (ReLU)               (None, 8, 8, 256)         0         \n",
      "_________________________________________________________________\n",
      "conv2d_8 (Conv2D)            (None, 8, 8, 256)         1638656   \n",
      "_________________________________________________________________\n",
      "batch_normalization_8 (Batch (None, 8, 8, 256)         1024      \n",
      "_________________________________________________________________\n",
      "re_lu_8 (ReLU)               (None, 8, 8, 256)         0         \n",
      "_________________________________________________________________\n",
      "max_pooling2d_4 (MaxPooling2 (None, 4, 4, 256)         0         \n",
      "_________________________________________________________________\n",
      "flatten_1 (Flatten)          (None, 4096)              0         \n",
      "_________________________________________________________________\n",
      "dense_1 (Dense)              (None, 512)               2097664   \n",
      "_________________________________________________________________\n",
      "dense_2 (Dense)              (None, 15)                7695      \n",
      "=================================================================\n",
      "Total params: 5,345,839\n",
      "Trainable params: 5,343,919\n",
      "Non-trainable params: 1,920\n",
      "_________________________________________________________________\n"
     ]
    }
   ],
   "source": [
    "input_layer = Input(shape=(dim,dim,channels))\n",
    "x = Conv2D(32, (3,3), padding=\"same\")(input_layer)\n",
    "x = BatchNormalization()(x)\n",
    "x = ReLU()(x)\n",
    "x = Conv2D(32, (3,3), padding=\"same\")(x)\n",
    "x = BatchNormalization()(x)\n",
    "x = ReLU()(x)\n",
    "x = MaxPooling2D()(x)\n",
    "\n",
    "x = Conv2D(64, (5,5), padding=\"same\")(x)\n",
    "x = BatchNormalization()(x)\n",
    "x = ReLU()(x)\n",
    "x = Conv2D(64, (5,5), padding=\"same\")(x)\n",
    "x = BatchNormalization()(x)\n",
    "x = ReLU()(x)\n",
    "x = MaxPooling2D()(x)\n",
    "\n",
    "x = Conv2D(128, (5,5), padding=\"same\")(x)\n",
    "x = BatchNormalization()(x)\n",
    "x = ReLU()(x)\n",
    "x = Conv2D(128, (5,5), padding=\"same\")(x)\n",
    "x = BatchNormalization()(x)\n",
    "x = ReLU()(x)\n",
    "x = MaxPooling2D()(x)\n",
    "\n",
    "x = Conv2D(256, (5,5), padding=\"same\")(x)\n",
    "x = BatchNormalization()(x)\n",
    "x = ReLU()(x)\n",
    "x = Conv2D(256, (5,5), padding=\"same\")(x)\n",
    "x = BatchNormalization()(x)\n",
    "x = ReLU()(x)\n",
    "x = MaxPooling2D()(x)\n",
    "\n",
    "x = Flatten()(x)\n",
    "x = Dense(512, activation='relu')(x)\n",
    "output = Dense(15, activation='softmax')(x)\n",
    "    \n",
    "# Connect the inputs with the outputs\n",
    "cnn = Model(inputs=input_layer, outputs=output)\n",
    "\n",
    "cnn.compile(loss=\"categorical_crossentropy\",optimizer=Adam(lr=0.00006, decay=1e-6), metrics=['acc'])\n",
    "cnn.summary()"
   ]
  },
  {
   "cell_type": "code",
   "execution_count": 13,
   "metadata": {
    "scrolled": true
   },
   "outputs": [
    {
     "name": "stdout",
     "output_type": "stream",
     "text": [
      "Train on 1033 samples, validate on 115 samples\n",
      "Epoch 1/50\n",
      "1033/1033 [==============================] - 1s 1ms/step - loss: 2.7627e-04 - acc: 1.0000 - val_loss: 0.0018 - val_acc: 1.0000\n",
      "Epoch 2/50\n",
      "1033/1033 [==============================] - 1s 1ms/step - loss: 2.2268e-04 - acc: 1.0000 - val_loss: 0.0020 - val_acc: 1.0000\n",
      "Epoch 3/50\n",
      "1033/1033 [==============================] - 1s 1ms/step - loss: 2.1105e-04 - acc: 1.0000 - val_loss: 0.0021 - val_acc: 1.0000\n",
      "Epoch 4/50\n",
      "1033/1033 [==============================] - 1s 1ms/step - loss: 1.9337e-04 - acc: 1.0000 - val_loss: 0.0023 - val_acc: 1.0000\n",
      "Epoch 5/50\n",
      "1033/1033 [==============================] - 1s 1ms/step - loss: 1.8037e-04 - acc: 1.0000 - val_loss: 0.0023 - val_acc: 1.0000\n",
      "Epoch 6/50\n",
      "1033/1033 [==============================] - 1s 1ms/step - loss: 1.4100e-04 - acc: 1.0000 - val_loss: 0.0024 - val_acc: 1.0000\n",
      "Epoch 7/50\n",
      "1033/1033 [==============================] - 1s 1ms/step - loss: 6.3012e-04 - acc: 1.0000 - val_loss: 0.0028 - val_acc: 1.0000\n",
      "Epoch 8/50\n",
      "1033/1033 [==============================] - 1s 1ms/step - loss: 0.0075 - acc: 0.9990 - val_loss: 0.0037 - val_acc: 1.0000\n",
      "Epoch 9/50\n",
      "1033/1033 [==============================] - 1s 1ms/step - loss: 8.8672e-04 - acc: 1.0000 - val_loss: 0.0030 - val_acc: 1.0000\n",
      "Epoch 10/50\n",
      "1033/1033 [==============================] - 1s 1ms/step - loss: 0.0021 - acc: 0.9990 - val_loss: 0.0040 - val_acc: 1.0000\n",
      "Epoch 11/50\n",
      "1033/1033 [==============================] - 1s 1ms/step - loss: 0.0025 - acc: 0.9990 - val_loss: 0.0065 - val_acc: 1.0000\n",
      "Epoch 12/50\n",
      "1033/1033 [==============================] - 1s 1ms/step - loss: 5.2061e-04 - acc: 1.0000 - val_loss: 0.0025 - val_acc: 1.0000\n",
      "Epoch 13/50\n",
      "1033/1033 [==============================] - 1s 1ms/step - loss: 1.3428e-04 - acc: 1.0000 - val_loss: 0.0021 - val_acc: 1.0000\n",
      "Epoch 14/50\n",
      "1033/1033 [==============================] - 1s 1ms/step - loss: 2.7004e-04 - acc: 1.0000 - val_loss: 0.0018 - val_acc: 1.0000\n",
      "Epoch 15/50\n",
      "1033/1033 [==============================] - 1s 1ms/step - loss: 1.2003e-04 - acc: 1.0000 - val_loss: 0.0017 - val_acc: 1.0000\n",
      "Epoch 16/50\n",
      "1033/1033 [==============================] - 1s 1ms/step - loss: 1.1978e-04 - acc: 1.0000 - val_loss: 0.0016 - val_acc: 1.0000\n",
      "Epoch 17/50\n",
      "1033/1033 [==============================] - 1s 1ms/step - loss: 1.2049e-04 - acc: 1.0000 - val_loss: 0.0016 - val_acc: 1.0000\n",
      "Epoch 18/50\n",
      "1033/1033 [==============================] - 1s 1ms/step - loss: 8.4553e-05 - acc: 1.0000 - val_loss: 0.0015 - val_acc: 1.0000\n",
      "Epoch 19/50\n",
      "1033/1033 [==============================] - 1s 1ms/step - loss: 9.1552e-05 - acc: 1.0000 - val_loss: 0.0015 - val_acc: 1.0000\n",
      "Epoch 20/50\n",
      "1033/1033 [==============================] - 1s 1ms/step - loss: 1.4955e-04 - acc: 1.0000 - val_loss: 0.0015 - val_acc: 1.0000\n",
      "Epoch 21/50\n",
      "1033/1033 [==============================] - 1s 1ms/step - loss: 6.9886e-05 - acc: 1.0000 - val_loss: 0.0014 - val_acc: 1.0000\n",
      "Epoch 22/50\n",
      "1033/1033 [==============================] - 1s 1ms/step - loss: 5.6638e-05 - acc: 1.0000 - val_loss: 0.0015 - val_acc: 1.0000\n",
      "Epoch 23/50\n",
      "1033/1033 [==============================] - 1s 1ms/step - loss: 6.7603e-05 - acc: 1.0000 - val_loss: 0.0014 - val_acc: 1.0000\n",
      "Epoch 24/50\n",
      "1033/1033 [==============================] - 1s 1ms/step - loss: 6.8505e-05 - acc: 1.0000 - val_loss: 0.0014 - val_acc: 1.0000\n",
      "Epoch 25/50\n",
      "1033/1033 [==============================] - 1s 1ms/step - loss: 5.3819e-05 - acc: 1.0000 - val_loss: 0.0014 - val_acc: 1.0000\n",
      "Epoch 26/50\n",
      "1033/1033 [==============================] - 1s 1ms/step - loss: 4.3527e-05 - acc: 1.0000 - val_loss: 0.0014 - val_acc: 1.0000\n",
      "Epoch 27/50\n",
      "1033/1033 [==============================] - 1s 1ms/step - loss: 4.8746e-05 - acc: 1.0000 - val_loss: 0.0013 - val_acc: 1.0000\n",
      "Epoch 28/50\n",
      "1033/1033 [==============================] - 1s 1ms/step - loss: 5.2489e-05 - acc: 1.0000 - val_loss: 0.0013 - val_acc: 1.0000\n",
      "Epoch 29/50\n",
      "1033/1033 [==============================] - 1s 1ms/step - loss: 7.7300e-05 - acc: 1.0000 - val_loss: 0.0014 - val_acc: 1.0000\n",
      "Epoch 30/50\n",
      "1033/1033 [==============================] - 1s 1ms/step - loss: 5.5393e-05 - acc: 1.0000 - val_loss: 0.0013 - val_acc: 1.0000\n",
      "Epoch 31/50\n",
      "1033/1033 [==============================] - 1s 1ms/step - loss: 3.4440e-05 - acc: 1.0000 - val_loss: 0.0014 - val_acc: 1.0000\n",
      "Epoch 32/50\n",
      "1033/1033 [==============================] - 1s 1ms/step - loss: 7.3824e-05 - acc: 1.0000 - val_loss: 0.0014 - val_acc: 1.0000\n",
      "Epoch 33/50\n",
      "1033/1033 [==============================] - 1s 1ms/step - loss: 3.8679e-05 - acc: 1.0000 - val_loss: 0.0015 - val_acc: 1.0000\n",
      "Epoch 34/50\n",
      "1033/1033 [==============================] - 1s 1ms/step - loss: 7.6011e-05 - acc: 1.0000 - val_loss: 0.0014 - val_acc: 1.0000\n",
      "Epoch 35/50\n",
      "1033/1033 [==============================] - 1s 1ms/step - loss: 4.1137e-05 - acc: 1.0000 - val_loss: 0.0014 - val_acc: 1.0000\n",
      "Epoch 36/50\n",
      "1033/1033 [==============================] - 1s 1ms/step - loss: 7.9723e-05 - acc: 1.0000 - val_loss: 0.0013 - val_acc: 1.0000\n",
      "Epoch 37/50\n",
      "1033/1033 [==============================] - 1s 1ms/step - loss: 3.1933e-05 - acc: 1.0000 - val_loss: 0.0013 - val_acc: 1.0000\n",
      "Epoch 38/50\n",
      "1033/1033 [==============================] - 1s 1ms/step - loss: 5.0934e-05 - acc: 1.0000 - val_loss: 0.0012 - val_acc: 1.0000\n",
      "Epoch 39/50\n",
      "1033/1033 [==============================] - 1s 1ms/step - loss: 5.0615e-05 - acc: 1.0000 - val_loss: 0.0013 - val_acc: 1.0000\n",
      "Epoch 40/50\n",
      "1033/1033 [==============================] - 1s 1ms/step - loss: 3.4892e-05 - acc: 1.0000 - val_loss: 0.0013 - val_acc: 1.0000\n",
      "Epoch 41/50\n",
      "1033/1033 [==============================] - 1s 1ms/step - loss: 0.0010 - acc: 1.0000 - val_loss: 0.0016 - val_acc: 1.0000\n",
      "Epoch 42/50\n",
      "1033/1033 [==============================] - 1s 1ms/step - loss: 0.0096 - acc: 0.9971 - val_loss: 0.0121 - val_acc: 1.0000\n",
      "Epoch 43/50\n",
      "1033/1033 [==============================] - 1s 1ms/step - loss: 0.0042 - acc: 0.9990 - val_loss: 0.0101 - val_acc: 1.0000\n",
      "Epoch 44/50\n",
      "1033/1033 [==============================] - 1s 1ms/step - loss: 1.4717e-04 - acc: 1.0000 - val_loss: 0.0072 - val_acc: 1.0000\n",
      "Epoch 45/50\n",
      "1033/1033 [==============================] - 1s 1ms/step - loss: 1.2760e-04 - acc: 1.0000 - val_loss: 0.0062 - val_acc: 1.0000\n",
      "Epoch 46/50\n",
      "1033/1033 [==============================] - 1s 1ms/step - loss: 4.9978e-04 - acc: 1.0000 - val_loss: 0.0052 - val_acc: 1.0000\n",
      "Epoch 47/50\n",
      "1033/1033 [==============================] - 1s 1ms/step - loss: 0.0041 - acc: 0.9981 - val_loss: 0.0060 - val_acc: 1.0000\n",
      "Epoch 48/50\n",
      "1033/1033 [==============================] - 1s 1ms/step - loss: 6.0073e-04 - acc: 1.0000 - val_loss: 0.0040 - val_acc: 1.0000\n",
      "Epoch 49/50\n",
      "1033/1033 [==============================] - 1s 1ms/step - loss: 1.1363e-04 - acc: 1.0000 - val_loss: 0.0032 - val_acc: 1.0000\n",
      "Epoch 50/50\n",
      "1033/1033 [==============================] - 1s 1ms/step - loss: 7.8386e-05 - acc: 1.0000 - val_loss: 0.0034 - val_acc: 1.0000\n"
     ]
    }
   ],
   "source": [
    "history = cnn.fit(x_train_img, y_train, batch_size=b_size, epochs=50, verbose=1,\n",
    "                          validation_data=(x_test_img,y_test))"
   ]
  },
  {
   "cell_type": "code",
   "execution_count": 14,
   "metadata": {},
   "outputs": [
    {
     "data": {
      "image/png": "[encoded data removed]",
      "text/plain": [
       "<Figure size 432x288 with 1 Axes>"
      ]
     },
     "metadata": {
      "needs_background": "light"
     },
     "output_type": "display_data"
    },
    {
     "data": {
      "image/png": "[encoded data removed]",
      "text/plain": [
       "<Figure size 432x288 with 1 Axes>"
      ]
     },
     "metadata": {
      "needs_background": "light"
     },
     "output_type": "display_data"
    }
   ],
   "source": [
    "# Plot training & validation accuracy values\n",
    "plt.plot(history.history['acc'])\n",
    "plt.plot(history.history['val_acc'])\n",
    "plt.title('Model accuracy')\n",
    "plt.ylabel('Accuracy')\n",
    "plt.xlabel('Epoch')\n",
    "plt.legend(['Train', 'Test'], loc='upper left')\n",
    "plt.show()\n",
    "\n",
    "# Plot training & validation loss values\n",
    "plt.plot(history.history['loss'])\n",
    "plt.plot(history.history['val_loss'])\n",
    "plt.title('Model loss')\n",
    "plt.ylabel('Loss')\n",
    "plt.xlabel('Epoch')\n",
    "plt.legend(['Train', 'Test'], loc='upper left')\n",
    "plt.show()"
   ]
  },
  {
   "cell_type": "code",
   "execution_count": 15,
   "metadata": {},
   "outputs": [
    {
     "data": {
      "text/plain": [
       "array(['a', 'b', 'c', 'circle', 'd', 'down', 'e', 'five', 'four', 'left',\n",
       "       'one', 'right', 'three', 'two', 'up'], dtype='<U6')"
      ]
     },
     "execution_count": 15,
     "metadata": {},
     "output_type": "execute_result"
    }
   ],
   "source": [
    "lb.classes_"
   ]
  },
  {
   "cell_type": "code",
   "execution_count": 16,
   "metadata": {},
   "outputs": [],
   "source": [
    "preds = cnn.predict(x_test_img)\n",
    "class_index = preds.argmax(axis=-1)\n",
    "preds_labels = []\n",
    "for index in class_index:\n",
    "    preds_labels.append(lb.classes_[index])"
   ]
  },
  {
   "cell_type": "code",
   "execution_count": 17,
   "metadata": {},
   "outputs": [
    {
     "data": {
      "text/plain": [
       "1.0"
      ]
     },
     "execution_count": 17,
     "metadata": {},
     "output_type": "execute_result"
    }
   ],
   "source": [
    "accuracy_score(lb.inverse_transform(y_test), preds_labels)"
   ]
  },
  {
   "cell_type": "code",
   "execution_count": 18,
   "metadata": {},
   "outputs": [],
   "source": [
    "cnn.save_weights('cnn_weights_colour.h5')"
   ]
  },
  {
   "cell_type": "code",
   "execution_count": null,
   "metadata": {},
   "outputs": [],
   "source": []
  }
 ],
 "metadata": {
  "kernelspec": {
   "display_name": "Python 3",
   "language": "python",
   "name": "python3"
  },
  "language_info": {
   "codemirror_mode": {
    "name": "ipython",
    "version": 3
   },
   "file_extension": ".py",
   "mimetype": "text/x-python",
   "name": "python",
   "nbconvert_exporter": "python",
   "pygments_lexer": "ipython3",
   "version": "3.7.6"
  }
 },
 "nbformat": 4,
 "nbformat_minor": 4
}
