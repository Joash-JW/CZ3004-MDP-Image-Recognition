{
 "cells": [
  {
   "cell_type": "code",
   "execution_count": 1,
   "metadata": {},
   "outputs": [
    {
     "name": "stderr",
     "output_type": "stream",
     "text": [
      "Using TensorFlow backend.\n"
     ]
    }
   ],
   "source": [
    "from keras.models import Model\n",
    "from keras.layers import Input, Dense, Conv2D, BatchNormalization, Flatten, MaxPooling2D, Lambda, ReLU\n",
    "# from keras.initializers import RandomNormal\n",
    "# from keras.regularizers import l2\n",
    "import pandas as pd\n",
    "import numpy as np\n",
    "import cv2\n",
    "from keras.optimizers import Adam\n",
    "from sklearn.preprocessing import LabelBinarizer\n",
    "import matplotlib.pyplot as plt\n",
    "from sklearn.metrics import accuracy_score\n",
    "from sklearn.model_selection import train_test_split"
   ]
  },
  {
   "cell_type": "code",
   "execution_count": 2,
   "metadata": {},
   "outputs": [
    {
     "name": "stdout",
     "output_type": "stream",
     "text": [
      "False\n"
     ]
    }
   ],
   "source": [
    "df = pd.read_csv(\"cnn_data.csv\")\n",
    "df.labels = df.labels.astype('category')\n",
    "lb = LabelBinarizer()\n",
    "print(df.isnull().values.any())\n",
    "\n",
    "b_size = 64\n",
    "channels = 1\n",
    "dim = 64"
   ]
  },
  {
   "cell_type": "code",
   "execution_count": 3,
   "metadata": {},
   "outputs": [],
   "source": [
    "x_train, x_test, y_train, y_test = train_test_split(df.img_path, df.labels,\n",
    "                                                    stratify=df.labels, test_size=0.1, random_state=2020)\n",
    "y_train = lb.fit_transform(y_train)\n",
    "y_test = lb.transform(y_test)"
   ]
  },
  {
   "cell_type": "code",
   "execution_count": 4,
   "metadata": {},
   "outputs": [
    {
     "name": "stdout",
     "output_type": "stream",
     "text": [
      "Images Loaded\n"
     ]
    }
   ],
   "source": [
    "x_train_img = np.empty(shape=(0,dim,dim,channels))\n",
    "for row in x_train:\n",
    "    frame = cv2.imread(row, 0)/255\n",
    "    arr = np.reshape(frame, newshape=(1,dim,dim,channels))\n",
    "    x_train_img = np.append(x_train_img, arr, axis=0)\n",
    "    \n",
    "x_test_img = np.empty(shape=(0,dim,dim,channels))\n",
    "for row in x_test:\n",
    "    frame = cv2.imread(row, 0)/255\n",
    "    arr = np.reshape(frame, newshape=(1,dim,dim,channels))\n",
    "    x_test_img = np.append(x_test_img, arr, axis=0)\n",
    "    \n",
    "print(\"Images Loaded\")"
   ]
  },
  {
   "cell_type": "code",
   "execution_count": 5,
   "metadata": {},
   "outputs": [],
   "source": [
    "input_layer = Input(shape=(dim,dim,channels))\n",
    "x = Conv2D(32, (3,3), padding=\"same\")(input_layer)\n",
    "x = BatchNormalization()(x)\n",
    "x = ReLU()(x)\n",
    "x = Conv2D(32, (3,3), padding=\"same\")(x)\n",
    "x = BatchNormalization()(x)\n",
    "x = ReLU()(x)\n",
    "x = MaxPooling2D()(x)\n",
    "\n",
    "x = Conv2D(64, (5,5), padding=\"same\")(x)\n",
    "x = BatchNormalization()(x)\n",
    "x = ReLU()(x)\n",
    "x = Conv2D(64, (5,5), padding=\"same\")(x)\n",
    "x = BatchNormalization()(x)\n",
    "x = ReLU()(x)\n",
    "x = MaxPooling2D()(x)\n",
    "\n",
    "x = Conv2D(128, (5,5), padding=\"same\")(x)\n",
    "x = BatchNormalization()(x)\n",
    "x = ReLU()(x)\n",
    "x = Conv2D(128, (5,5), padding=\"same\")(x)\n",
    "x = BatchNormalization()(x)\n",
    "x = ReLU()(x)\n",
    "x = MaxPooling2D()(x)\n",
    "\n",
    "x = Conv2D(256, (5,5), padding=\"same\")(x)\n",
    "x = BatchNormalization()(x)\n",
    "x = ReLU()(x)\n",
    "x = Conv2D(256, (5,5), padding=\"same\")(x)\n",
    "x = BatchNormalization()(x)\n",
    "x = ReLU()(x)\n",
    "x = MaxPooling2D()(x)\n",
    "\n",
    "x = Flatten()(x)\n",
    "x = Dense(512, activation='relu')(x)\n",
    "output = Dense(15, activation='softmax')(x)\n",
    "    \n",
    "# Connect the inputs with the outputs\n",
    "cnn = Model(inputs=input_layer, outputs=output)"
   ]
  },
  {
   "cell_type": "code",
   "execution_count": 6,
   "metadata": {
    "scrolled": true
   },
   "outputs": [
    {
     "name": "stdout",
     "output_type": "stream",
     "text": [
      "Model: \"model_1\"\n",
      "_________________________________________________________________\n",
      "Layer (type)                 Output Shape              Param #   \n",
      "=================================================================\n",
      "input_1 (InputLayer)         (None, 64, 64, 1)         0         \n",
      "_________________________________________________________________\n",
      "conv2d_1 (Conv2D)            (None, 64, 64, 32)        320       \n",
      "_________________________________________________________________\n",
      "batch_normalization_1 (Batch (None, 64, 64, 32)        128       \n",
      "_________________________________________________________________\n",
      "re_lu_1 (ReLU)               (None, 64, 64, 32)        0         \n",
      "_________________________________________________________________\n",
      "conv2d_2 (Conv2D)            (None, 64, 64, 32)        9248      \n",
      "_________________________________________________________________\n",
      "batch_normalization_2 (Batch (None, 64, 64, 32)        128       \n",
      "_________________________________________________________________\n",
      "re_lu_2 (ReLU)               (None, 64, 64, 32)        0         \n",
      "_________________________________________________________________\n",
      "max_pooling2d_1 (MaxPooling2 (None, 32, 32, 32)        0         \n",
      "_________________________________________________________________\n",
      "conv2d_3 (Conv2D)            (None, 32, 32, 64)        51264     \n",
      "_________________________________________________________________\n",
      "batch_normalization_3 (Batch (None, 32, 32, 64)        256       \n",
      "_________________________________________________________________\n",
      "re_lu_3 (ReLU)               (None, 32, 32, 64)        0         \n",
      "_________________________________________________________________\n",
      "conv2d_4 (Conv2D)            (None, 32, 32, 64)        102464    \n",
      "_________________________________________________________________\n",
      "batch_normalization_4 (Batch (None, 32, 32, 64)        256       \n",
      "_________________________________________________________________\n",
      "re_lu_4 (ReLU)               (None, 32, 32, 64)        0         \n",
      "_________________________________________________________________\n",
      "max_pooling2d_2 (MaxPooling2 (None, 16, 16, 64)        0         \n",
      "_________________________________________________________________\n",
      "conv2d_5 (Conv2D)            (None, 16, 16, 128)       204928    \n",
      "_________________________________________________________________\n",
      "batch_normalization_5 (Batch (None, 16, 16, 128)       512       \n",
      "_________________________________________________________________\n",
      "re_lu_5 (ReLU)               (None, 16, 16, 128)       0         \n",
      "_________________________________________________________________\n",
      "conv2d_6 (Conv2D)            (None, 16, 16, 128)       409728    \n",
      "_________________________________________________________________\n",
      "batch_normalization_6 (Batch (None, 16, 16, 128)       512       \n",
      "_________________________________________________________________\n",
      "re_lu_6 (ReLU)               (None, 16, 16, 128)       0         \n",
      "_________________________________________________________________\n",
      "max_pooling2d_3 (MaxPooling2 (None, 8, 8, 128)         0         \n",
      "_________________________________________________________________\n",
      "conv2d_7 (Conv2D)            (None, 8, 8, 256)         819456    \n",
      "_________________________________________________________________\n",
      "batch_normalization_7 (Batch (None, 8, 8, 256)         1024      \n",
      "_________________________________________________________________\n",
      "re_lu_7 (ReLU)               (None, 8, 8, 256)         0         \n",
      "_________________________________________________________________\n",
      "conv2d_8 (Conv2D)            (None, 8, 8, 256)         1638656   \n",
      "_________________________________________________________________\n",
      "batch_normalization_8 (Batch (None, 8, 8, 256)         1024      \n",
      "_________________________________________________________________\n",
      "re_lu_8 (ReLU)               (None, 8, 8, 256)         0         \n",
      "_________________________________________________________________\n",
      "max_pooling2d_4 (MaxPooling2 (None, 4, 4, 256)         0         \n",
      "_________________________________________________________________\n",
      "flatten_1 (Flatten)          (None, 4096)              0         \n",
      "_________________________________________________________________\n",
      "dense_1 (Dense)              (None, 512)               2097664   \n",
      "_________________________________________________________________\n",
      "dense_2 (Dense)              (None, 15)                7695      \n",
      "=================================================================\n",
      "Total params: 5,345,263\n",
      "Trainable params: 5,343,343\n",
      "Non-trainable params: 1,920\n",
      "_________________________________________________________________\n"
     ]
    }
   ],
   "source": [
    "cnn.compile(loss=\"categorical_crossentropy\",optimizer=Adam(lr=0.00006, decay=1e-6), metrics=['acc'])\n",
    "cnn.summary()"
   ]
  },
  {
   "cell_type": "code",
   "execution_count": 7,
   "metadata": {
    "scrolled": true
   },
   "outputs": [
    {
     "name": "stdout",
     "output_type": "stream",
     "text": [
      "Train on 982 samples, validate on 110 samples\n",
      "Epoch 1/100\n",
      "982/982 [==============================] - 6s 6ms/step - loss: 1.3426 - acc: 0.6405 - val_loss: 2.7102 - val_acc: 0.0455\n",
      "Epoch 2/100\n",
      "982/982 [==============================] - 1s 1ms/step - loss: 0.2404 - acc: 0.9430 - val_loss: 2.7384 - val_acc: 0.0455\n",
      "Epoch 3/100\n",
      "982/982 [==============================] - 1s 1ms/step - loss: 0.0891 - acc: 0.9827 - val_loss: 2.7739 - val_acc: 0.0455\n",
      "Epoch 4/100\n",
      "982/982 [==============================] - 1s 1ms/step - loss: 0.0415 - acc: 0.9919 - val_loss: 2.8107 - val_acc: 0.0455\n",
      "Epoch 5/100\n",
      "982/982 [==============================] - 1s 1ms/step - loss: 0.0206 - acc: 1.0000 - val_loss: 2.9223 - val_acc: 0.0455\n",
      "Epoch 6/100\n",
      "982/982 [==============================] - 1s 1ms/step - loss: 0.0099 - acc: 1.0000 - val_loss: 3.0400 - val_acc: 0.0455\n",
      "Epoch 7/100\n",
      "982/982 [==============================] - 1s 1ms/step - loss: 0.0062 - acc: 1.0000 - val_loss: 3.1874 - val_acc: 0.0455\n",
      "Epoch 8/100\n",
      "982/982 [==============================] - 1s 1ms/step - loss: 0.0053 - acc: 1.0000 - val_loss: 3.2918 - val_acc: 0.0455\n",
      "Epoch 9/100\n",
      "982/982 [==============================] - 1s 1ms/step - loss: 0.0040 - acc: 1.0000 - val_loss: 3.4653 - val_acc: 0.0455\n",
      "Epoch 10/100\n",
      "982/982 [==============================] - 1s 1ms/step - loss: 0.0051 - acc: 1.0000 - val_loss: 3.7778 - val_acc: 0.0455\n",
      "Epoch 11/100\n",
      "982/982 [==============================] - 1s 1ms/step - loss: 0.0033 - acc: 1.0000 - val_loss: 3.7703 - val_acc: 0.0455\n",
      "Epoch 12/100\n",
      "982/982 [==============================] - 1s 1ms/step - loss: 0.0036 - acc: 1.0000 - val_loss: 3.9382 - val_acc: 0.0455\n",
      "Epoch 13/100\n",
      "982/982 [==============================] - 1s 1ms/step - loss: 0.0031 - acc: 1.0000 - val_loss: 4.1639 - val_acc: 0.0455\n",
      "Epoch 14/100\n",
      "982/982 [==============================] - 1s 1ms/step - loss: 0.0019 - acc: 1.0000 - val_loss: 4.3094 - val_acc: 0.0455\n",
      "Epoch 15/100\n",
      "982/982 [==============================] - 1s 1ms/step - loss: 0.0016 - acc: 1.0000 - val_loss: 4.4871 - val_acc: 0.0455\n",
      "Epoch 16/100\n",
      "982/982 [==============================] - 1s 1ms/step - loss: 0.0017 - acc: 1.0000 - val_loss: 4.4985 - val_acc: 0.0455\n",
      "Epoch 17/100\n",
      "982/982 [==============================] - 1s 1ms/step - loss: 0.0013 - acc: 1.0000 - val_loss: 4.5650 - val_acc: 0.0455\n",
      "Epoch 18/100\n",
      "982/982 [==============================] - 1s 1ms/step - loss: 0.0010 - acc: 1.0000 - val_loss: 4.6135 - val_acc: 0.0455\n",
      "Epoch 19/100\n",
      "982/982 [==============================] - 1s 1ms/step - loss: 0.0011 - acc: 1.0000 - val_loss: 4.7119 - val_acc: 0.0455\n",
      "Epoch 20/100\n",
      "982/982 [==============================] - 1s 1ms/step - loss: 0.0011 - acc: 1.0000 - val_loss: 4.4458 - val_acc: 0.0455\n",
      "Epoch 21/100\n",
      "982/982 [==============================] - 1s 1ms/step - loss: 0.0013 - acc: 1.0000 - val_loss: 4.4126 - val_acc: 0.0455\n",
      "Epoch 22/100\n",
      "982/982 [==============================] - 1s 1ms/step - loss: 8.8008e-04 - acc: 1.0000 - val_loss: 4.2362 - val_acc: 0.0455\n",
      "Epoch 23/100\n",
      "982/982 [==============================] - 1s 1ms/step - loss: 7.8175e-04 - acc: 1.0000 - val_loss: 4.0497 - val_acc: 0.0636\n",
      "Epoch 24/100\n",
      "982/982 [==============================] - 1s 1ms/step - loss: 6.8279e-04 - acc: 1.0000 - val_loss: 3.6991 - val_acc: 0.0727\n",
      "Epoch 25/100\n",
      "982/982 [==============================] - 1s 1ms/step - loss: 7.8142e-04 - acc: 1.0000 - val_loss: 3.4324 - val_acc: 0.1182\n",
      "Epoch 26/100\n",
      "982/982 [==============================] - 1s 1ms/step - loss: 0.0011 - acc: 1.0000 - val_loss: 3.0992 - val_acc: 0.1364\n",
      "Epoch 27/100\n",
      "982/982 [==============================] - 1s 1ms/step - loss: 8.7369e-04 - acc: 1.0000 - val_loss: 2.6408 - val_acc: 0.1909\n",
      "Epoch 28/100\n",
      "982/982 [==============================] - 1s 1ms/step - loss: 7.4585e-04 - acc: 1.0000 - val_loss: 2.1735 - val_acc: 0.3091\n",
      "Epoch 29/100\n",
      "982/982 [==============================] - 1s 1ms/step - loss: 6.0588e-04 - acc: 1.0000 - val_loss: 1.8449 - val_acc: 0.4000\n",
      "Epoch 30/100\n",
      "982/982 [==============================] - 1s 1ms/step - loss: 9.7268e-04 - acc: 1.0000 - val_loss: 1.4933 - val_acc: 0.5273\n",
      "Epoch 31/100\n",
      "982/982 [==============================] - 1s 1ms/step - loss: 8.0736e-04 - acc: 1.0000 - val_loss: 1.2343 - val_acc: 0.6182\n",
      "Epoch 32/100\n",
      "982/982 [==============================] - 1s 1ms/step - loss: 8.5963e-04 - acc: 1.0000 - val_loss: 0.9519 - val_acc: 0.6909\n",
      "Epoch 33/100\n",
      "982/982 [==============================] - 1s 1ms/step - loss: 4.7797e-04 - acc: 1.0000 - val_loss: 0.7684 - val_acc: 0.7727\n",
      "Epoch 34/100\n",
      "982/982 [==============================] - 1s 1ms/step - loss: 4.7382e-04 - acc: 1.0000 - val_loss: 0.6529 - val_acc: 0.7909\n",
      "Epoch 35/100\n",
      "982/982 [==============================] - 1s 1ms/step - loss: 4.0195e-04 - acc: 1.0000 - val_loss: 0.5604 - val_acc: 0.8364\n",
      "Epoch 36/100\n",
      "982/982 [==============================] - 1s 1ms/step - loss: 3.0651e-04 - acc: 1.0000 - val_loss: 0.5003 - val_acc: 0.8545\n",
      "Epoch 37/100\n",
      "982/982 [==============================] - 1s 1ms/step - loss: 5.1405e-04 - acc: 1.0000 - val_loss: 0.4530 - val_acc: 0.8818\n",
      "Epoch 38/100\n",
      "982/982 [==============================] - 1s 1ms/step - loss: 5.1293e-04 - acc: 1.0000 - val_loss: 0.4107 - val_acc: 0.8818\n",
      "Epoch 39/100\n",
      "982/982 [==============================] - 1s 1ms/step - loss: 0.0015 - acc: 1.0000 - val_loss: 0.4238 - val_acc: 0.8818\n",
      "Epoch 40/100\n",
      "982/982 [==============================] - 1s 1ms/step - loss: 3.2518e-04 - acc: 1.0000 - val_loss: 0.4058 - val_acc: 0.8909\n",
      "Epoch 41/100\n",
      "982/982 [==============================] - 1s 1ms/step - loss: 3.2289e-04 - acc: 1.0000 - val_loss: 0.3833 - val_acc: 0.9000\n",
      "Epoch 42/100\n",
      "982/982 [==============================] - 1s 1ms/step - loss: 3.8790e-04 - acc: 1.0000 - val_loss: 0.3694 - val_acc: 0.9182\n",
      "Epoch 43/100\n",
      "982/982 [==============================] - 1s 1ms/step - loss: 2.7380e-04 - acc: 1.0000 - val_loss: 0.3611 - val_acc: 0.9273\n",
      "Epoch 44/100\n",
      "982/982 [==============================] - 1s 1ms/step - loss: 2.5497e-04 - acc: 1.0000 - val_loss: 0.3562 - val_acc: 0.9273\n",
      "Epoch 45/100\n",
      "982/982 [==============================] - 1s 1ms/step - loss: 3.3475e-04 - acc: 1.0000 - val_loss: 0.3523 - val_acc: 0.9273\n",
      "Epoch 46/100\n",
      "982/982 [==============================] - 1s 1ms/step - loss: 2.1490e-04 - acc: 1.0000 - val_loss: 0.3520 - val_acc: 0.9091\n",
      "Epoch 47/100\n",
      "982/982 [==============================] - 1s 1ms/step - loss: 2.9263e-04 - acc: 1.0000 - val_loss: 0.3537 - val_acc: 0.9091\n",
      "Epoch 48/100\n",
      "982/982 [==============================] - 1s 1ms/step - loss: 2.9669e-04 - acc: 1.0000 - val_loss: 0.3556 - val_acc: 0.9182\n",
      "Epoch 49/100\n",
      "982/982 [==============================] - 1s 1ms/step - loss: 2.9403e-04 - acc: 1.0000 - val_loss: 0.3598 - val_acc: 0.9182\n",
      "Epoch 50/100\n",
      "982/982 [==============================] - 1s 1ms/step - loss: 2.3621e-04 - acc: 1.0000 - val_loss: 0.3658 - val_acc: 0.9182\n",
      "Epoch 51/100\n",
      "982/982 [==============================] - 1s 1ms/step - loss: 2.2162e-04 - acc: 1.0000 - val_loss: 0.3643 - val_acc: 0.9182\n",
      "Epoch 52/100\n",
      "982/982 [==============================] - 1s 1ms/step - loss: 2.2299e-04 - acc: 1.0000 - val_loss: 0.3656 - val_acc: 0.9182\n",
      "Epoch 53/100\n",
      "982/982 [==============================] - 1s 1ms/step - loss: 1.5757e-04 - acc: 1.0000 - val_loss: 0.3670 - val_acc: 0.9182\n",
      "Epoch 54/100\n",
      "982/982 [==============================] - 1s 1ms/step - loss: 4.7148e-04 - acc: 1.0000 - val_loss: 0.3652 - val_acc: 0.9273\n",
      "Epoch 55/100\n",
      "982/982 [==============================] - 1s 1ms/step - loss: 6.5530e-04 - acc: 1.0000 - val_loss: 0.4026 - val_acc: 0.9091\n",
      "Epoch 56/100\n",
      "982/982 [==============================] - 1s 1ms/step - loss: 5.8942e-04 - acc: 1.0000 - val_loss: 0.3858 - val_acc: 0.9182\n",
      "Epoch 57/100\n",
      "982/982 [==============================] - 1s 1ms/step - loss: 3.7722e-04 - acc: 1.0000 - val_loss: 0.3955 - val_acc: 0.9273\n",
      "Epoch 58/100\n",
      "982/982 [==============================] - 1s 1ms/step - loss: 3.1478e-04 - acc: 1.0000 - val_loss: 0.3726 - val_acc: 0.9273\n",
      "Epoch 59/100\n",
      "982/982 [==============================] - 1s 1ms/step - loss: 1.9605e-04 - acc: 1.0000 - val_loss: 0.3640 - val_acc: 0.9273\n",
      "Epoch 60/100\n",
      "982/982 [==============================] - 1s 1ms/step - loss: 1.6528e-04 - acc: 1.0000 - val_loss: 0.3667 - val_acc: 0.9273\n"
     ]
    },
    {
     "name": "stdout",
     "output_type": "stream",
     "text": [
      "Epoch 61/100\n",
      "982/982 [==============================] - 1s 1ms/step - loss: 1.4588e-04 - acc: 1.0000 - val_loss: 0.3686 - val_acc: 0.9273\n",
      "Epoch 62/100\n",
      "982/982 [==============================] - 1s 1ms/step - loss: 1.3762e-04 - acc: 1.0000 - val_loss: 0.3686 - val_acc: 0.9273\n",
      "Epoch 63/100\n",
      "982/982 [==============================] - 1s 1ms/step - loss: 2.4137e-04 - acc: 1.0000 - val_loss: 0.3757 - val_acc: 0.9273\n",
      "Epoch 64/100\n",
      "982/982 [==============================] - 1s 1ms/step - loss: 1.8693e-04 - acc: 1.0000 - val_loss: 0.4109 - val_acc: 0.9273\n",
      "Epoch 65/100\n",
      "982/982 [==============================] - 1s 1ms/step - loss: 2.7130e-04 - acc: 1.0000 - val_loss: 0.3864 - val_acc: 0.9273\n",
      "Epoch 66/100\n",
      "982/982 [==============================] - 1s 1ms/step - loss: 1.1824e-04 - acc: 1.0000 - val_loss: 0.3786 - val_acc: 0.9273\n",
      "Epoch 67/100\n",
      "982/982 [==============================] - 1s 1ms/step - loss: 1.1348e-04 - acc: 1.0000 - val_loss: 0.3794 - val_acc: 0.9273\n",
      "Epoch 68/100\n",
      "982/982 [==============================] - 1s 1ms/step - loss: 1.1988e-04 - acc: 1.0000 - val_loss: 0.3821 - val_acc: 0.9273\n",
      "Epoch 69/100\n",
      "982/982 [==============================] - 1s 1ms/step - loss: 1.1594e-04 - acc: 1.0000 - val_loss: 0.3798 - val_acc: 0.9273\n",
      "Epoch 70/100\n",
      "982/982 [==============================] - 1s 1ms/step - loss: 2.7401e-04 - acc: 1.0000 - val_loss: 0.3739 - val_acc: 0.9273\n",
      "Epoch 71/100\n",
      "982/982 [==============================] - 1s 1ms/step - loss: 3.9026e-04 - acc: 1.0000 - val_loss: 0.3789 - val_acc: 0.9364\n",
      "Epoch 72/100\n",
      "982/982 [==============================] - 1s 1ms/step - loss: 1.4580e-04 - acc: 1.0000 - val_loss: 0.3700 - val_acc: 0.9273\n",
      "Epoch 73/100\n",
      "982/982 [==============================] - 1s 1ms/step - loss: 1.3583e-04 - acc: 1.0000 - val_loss: 0.3710 - val_acc: 0.9273\n",
      "Epoch 74/100\n",
      "982/982 [==============================] - 1s 1ms/step - loss: 1.4710e-04 - acc: 1.0000 - val_loss: 0.3743 - val_acc: 0.9273\n",
      "Epoch 75/100\n",
      "982/982 [==============================] - 1s 1ms/step - loss: 9.3001e-05 - acc: 1.0000 - val_loss: 0.3755 - val_acc: 0.9273\n",
      "Epoch 76/100\n",
      "982/982 [==============================] - 1s 1ms/step - loss: 1.1034e-04 - acc: 1.0000 - val_loss: 0.3766 - val_acc: 0.9273\n",
      "Epoch 77/100\n",
      "982/982 [==============================] - 1s 1ms/step - loss: 1.0814e-04 - acc: 1.0000 - val_loss: 0.3777 - val_acc: 0.9273\n",
      "Epoch 78/100\n",
      "982/982 [==============================] - 1s 1ms/step - loss: 8.5713e-05 - acc: 1.0000 - val_loss: 0.3785 - val_acc: 0.9273\n",
      "Epoch 79/100\n",
      "982/982 [==============================] - 1s 1ms/step - loss: 1.1341e-04 - acc: 1.0000 - val_loss: 0.3771 - val_acc: 0.9273\n",
      "Epoch 80/100\n",
      "982/982 [==============================] - 1s 1ms/step - loss: 1.2630e-04 - acc: 1.0000 - val_loss: 0.3694 - val_acc: 0.9273\n",
      "Epoch 81/100\n",
      "982/982 [==============================] - 1s 1ms/step - loss: 1.2197e-04 - acc: 1.0000 - val_loss: 0.3675 - val_acc: 0.9273\n",
      "Epoch 82/100\n",
      "982/982 [==============================] - 1s 1ms/step - loss: 9.5651e-05 - acc: 1.0000 - val_loss: 0.3636 - val_acc: 0.9273\n",
      "Epoch 83/100\n",
      "982/982 [==============================] - 1s 1ms/step - loss: 8.7468e-05 - acc: 1.0000 - val_loss: 0.3645 - val_acc: 0.9273\n",
      "Epoch 84/100\n",
      "982/982 [==============================] - 1s 1ms/step - loss: 7.3198e-05 - acc: 1.0000 - val_loss: 0.3654 - val_acc: 0.9273\n",
      "Epoch 85/100\n",
      "982/982 [==============================] - 1s 1ms/step - loss: 7.2207e-05 - acc: 1.0000 - val_loss: 0.3682 - val_acc: 0.9273\n",
      "Epoch 86/100\n",
      "982/982 [==============================] - 1s 1ms/step - loss: 8.4039e-05 - acc: 1.0000 - val_loss: 0.3698 - val_acc: 0.9273\n",
      "Epoch 87/100\n",
      "982/982 [==============================] - 1s 1ms/step - loss: 8.2655e-05 - acc: 1.0000 - val_loss: 0.3698 - val_acc: 0.9273\n",
      "Epoch 88/100\n",
      "982/982 [==============================] - 1s 1ms/step - loss: 6.3349e-05 - acc: 1.0000 - val_loss: 0.3694 - val_acc: 0.9273\n",
      "Epoch 89/100\n",
      "982/982 [==============================] - 1s 1ms/step - loss: 6.6411e-05 - acc: 1.0000 - val_loss: 0.3732 - val_acc: 0.9273\n",
      "Epoch 90/100\n",
      "982/982 [==============================] - 1s 1ms/step - loss: 6.2647e-05 - acc: 1.0000 - val_loss: 0.3765 - val_acc: 0.9273\n",
      "Epoch 91/100\n",
      "982/982 [==============================] - 1s 1ms/step - loss: 6.1469e-05 - acc: 1.0000 - val_loss: 0.3770 - val_acc: 0.9273\n",
      "Epoch 92/100\n",
      "982/982 [==============================] - 1s 1ms/step - loss: 5.0789e-05 - acc: 1.0000 - val_loss: 0.3775 - val_acc: 0.9273\n",
      "Epoch 93/100\n",
      "982/982 [==============================] - 1s 1ms/step - loss: 5.4228e-05 - acc: 1.0000 - val_loss: 0.3781 - val_acc: 0.9273\n",
      "Epoch 94/100\n",
      "982/982 [==============================] - 1s 1ms/step - loss: 7.1203e-05 - acc: 1.0000 - val_loss: 0.3788 - val_acc: 0.9273\n",
      "Epoch 95/100\n",
      "982/982 [==============================] - 1s 1ms/step - loss: 5.4490e-05 - acc: 1.0000 - val_loss: 0.3737 - val_acc: 0.9273\n",
      "Epoch 96/100\n",
      "982/982 [==============================] - 1s 1ms/step - loss: 6.1965e-05 - acc: 1.0000 - val_loss: 0.3751 - val_acc: 0.9273\n",
      "Epoch 97/100\n",
      "982/982 [==============================] - 1s 1ms/step - loss: 9.2248e-05 - acc: 1.0000 - val_loss: 0.3822 - val_acc: 0.9273\n",
      "Epoch 98/100\n",
      "982/982 [==============================] - 1s 1ms/step - loss: 4.9120e-05 - acc: 1.0000 - val_loss: 0.3816 - val_acc: 0.9273\n",
      "Epoch 99/100\n",
      "982/982 [==============================] - 1s 1ms/step - loss: 4.8722e-05 - acc: 1.0000 - val_loss: 0.3787 - val_acc: 0.9273\n",
      "Epoch 100/100\n",
      "982/982 [==============================] - 1s 1ms/step - loss: 7.2520e-05 - acc: 1.0000 - val_loss: 0.3753 - val_acc: 0.9273\n"
     ]
    }
   ],
   "source": [
    "history = cnn.fit(x_train_img, y_train, batch_size=b_size, epochs=100, verbose=1,\n",
    "                          validation_data=(x_test_img,y_test))"
   ]
  },
  {
   "cell_type": "code",
   "execution_count": 9,
   "metadata": {},
   "outputs": [
    {
     "data": {
      "image/png": "[encoded data removed]",
      "text/plain": [
       "<Figure size 432x288 with 1 Axes>"
      ]
     },
     "metadata": {
      "needs_background": "light"
     },
     "output_type": "display_data"
    },
    {
     "data": {
      "image/png": "[encoded data removed]",
      "text/plain": [
       "<Figure size 432x288 with 1 Axes>"
      ]
     },
     "metadata": {
      "needs_background": "light"
     },
     "output_type": "display_data"
    }
   ],
   "source": [
    "# Plot training & validation accuracy values\n",
    "plt.plot(history.history['acc'])\n",
    "plt.plot(history.history['val_acc'])\n",
    "plt.title('Model accuracy')\n",
    "plt.ylabel('Accuracy')\n",
    "plt.xlabel('Epoch')\n",
    "plt.legend(['Train', 'Test'], loc='upper left')\n",
    "plt.show()\n",
    "\n",
    "# Plot training & validation loss values\n",
    "plt.plot(history.history['loss'])\n",
    "plt.plot(history.history['val_loss'])\n",
    "plt.title('Model loss')\n",
    "plt.ylabel('Loss')\n",
    "plt.xlabel('Epoch')\n",
    "plt.legend(['Train', 'Test'], loc='upper left')\n",
    "plt.show()"
   ]
  },
  {
   "cell_type": "code",
   "execution_count": 10,
   "metadata": {},
   "outputs": [
    {
     "data": {
      "text/plain": [
       "array(['a', 'b', 'c', 'circle', 'd', 'down', 'e', 'five', 'four', 'left',\n",
       "       'one', 'right', 'three', 'two', 'up'], dtype='<U6')"
      ]
     },
     "execution_count": 10,
     "metadata": {},
     "output_type": "execute_result"
    }
   ],
   "source": [
    "lb.classes_"
   ]
  },
  {
   "cell_type": "code",
   "execution_count": 11,
   "metadata": {},
   "outputs": [],
   "source": [
    "preds = cnn.predict(x_test_img)\n",
    "class_index = preds.argmax(axis=-1)\n",
    "preds_labels = []\n",
    "for index in class_index:\n",
    "    preds_labels.append(lb.classes_[index])"
   ]
  },
  {
   "cell_type": "code",
   "execution_count": 18,
   "metadata": {},
   "outputs": [
    {
     "data": {
      "text/plain": [
       "0.9272727272727272"
      ]
     },
     "execution_count": 18,
     "metadata": {},
     "output_type": "execute_result"
    }
   ],
   "source": [
    "accuracy_score(lb.inverse_transform(y_test), preds_labels)"
   ]
  },
  {
   "cell_type": "code",
   "execution_count": 19,
   "metadata": {},
   "outputs": [],
   "source": [
    "cnn.save_weights('cnn_weights.h5')"
   ]
  },
  {
   "cell_type": "code",
   "execution_count": 24,
   "metadata": {},
   "outputs": [
    {
     "data": {
      "text/plain": [
       "['labelbinarizer.joblib']"
      ]
     },
     "execution_count": 24,
     "metadata": {},
     "output_type": "execute_result"
    }
   ],
   "source": [
    "import joblib\n",
    "joblib.dump(lb, \"labelbinarizer.joblib\")"
   ]
  },
  {
   "cell_type": "code",
   "execution_count": null,
   "metadata": {},
   "outputs": [],
   "source": []
  }
 ],
 "metadata": {
  "kernelspec": {
   "display_name": "Python 3",
   "language": "python",
   "name": "python3"
  },
  "language_info": {
   "codemirror_mode": {
    "name": "ipython",
    "version": 3
   },
   "file_extension": ".py",
   "mimetype": "text/x-python",
   "name": "python",
   "nbconvert_exporter": "python",
   "pygments_lexer": "ipython3",
   "version": "3.6.6"
  }
 },
 "nbformat": 4,
 "nbformat_minor": 4
}
